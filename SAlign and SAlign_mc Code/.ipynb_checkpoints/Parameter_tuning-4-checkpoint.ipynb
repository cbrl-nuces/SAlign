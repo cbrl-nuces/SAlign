{
 "cells": [
  {
   "cell_type": "code",
   "execution_count": 1,
   "metadata": {},
   "outputs": [],
   "source": [
    "import os\n",
    "import subprocess"
   ]
  },
  {
   "cell_type": "code",
   "execution_count": 2,
   "metadata": {
    "scrolled": true
   },
   "outputs": [
    {
     "name": "stdout",
     "output_type": "stream",
     "text": [
      "======================================================================\n",
      "align_num:  3_4_1 alpha 0.4 beta 0.1\n",
      "======================================================================\n",
      "\n"
     ]
    },
    {
     "ename": "KeyboardInterrupt",
     "evalue": "",
     "output_type": "error",
     "traceback": [
      "\u001b[0;31m---------------------------------------------------------------------------\u001b[0m",
      "\u001b[0;31mKeyboardInterrupt\u001b[0m                         Traceback (most recent call last)",
      "\u001b[0;32m<ipython-input-2-b87232a19bcc>\u001b[0m in \u001b[0;36m<module>\u001b[0;34m\u001b[0m\n\u001b[1;32m     39\u001b[0m             \u001b[0mrunCommand\u001b[0m \u001b[0;34m=\u001b[0m  \u001b[0;34m\"./SAlign \"\u001b[0m \u001b[0;34m+\u001b[0m \u001b[0msp1\u001b[0m \u001b[0;34m+\u001b[0m \u001b[0;34m\".txt \"\u001b[0m \u001b[0;34m+\u001b[0m \u001b[0msp2\u001b[0m \u001b[0;34m+\u001b[0m \u001b[0;34m\".txt -l \"\u001b[0m\u001b[0;34m+\u001b[0m \u001b[0mstr\u001b[0m\u001b[0;34m(\u001b[0m\u001b[0mlamda\u001b[0m\u001b[0;34m)\u001b[0m \u001b[0;34m+\u001b[0m \u001b[0;34m\" -a \"\u001b[0m\u001b[0;34m+\u001b[0m \u001b[0mstr\u001b[0m\u001b[0;34m(\u001b[0m\u001b[0malpha\u001b[0m\u001b[0;34m)\u001b[0m \u001b[0;34m+\u001b[0m \u001b[0;34m\" -d \"\u001b[0m\u001b[0;34m+\u001b[0m \u001b[0mstr\u001b[0m\u001b[0;34m(\u001b[0m\u001b[0mthreshold\u001b[0m\u001b[0;34m)\u001b[0m \u001b[0;34m+\u001b[0m\u001b[0;34m\" -b \"\u001b[0m \u001b[0;34m+\u001b[0m \u001b[0mblastFile\u001b[0m \u001b[0;34m+\u001b[0m \u001b[0;34m\" -s \"\u001b[0m \u001b[0;34m+\u001b[0m \u001b[0msp1\u001b[0m\u001b[0;34m+\u001b[0m\u001b[0;34m\"_\"\u001b[0m\u001b[0;34m+\u001b[0m\u001b[0msp2\u001b[0m\u001b[0;34m+\u001b[0m\u001b[0;34m\".tmscore -t \"\u001b[0m \u001b[0;34m+\u001b[0m \u001b[0mstr\u001b[0m\u001b[0;34m(\u001b[0m\u001b[0mbeta\u001b[0m\u001b[0;34m)\u001b[0m \u001b[0;34m+\u001b[0m\u001b[0;34m\" -n \"\u001b[0m\u001b[0;34m+\u001b[0m \u001b[0mstr\u001b[0m\u001b[0;34m(\u001b[0m\u001b[0mfile_num\u001b[0m\u001b[0;34m)\u001b[0m\u001b[0;34m\u001b[0m\u001b[0;34m\u001b[0m\u001b[0m\n\u001b[1;32m     40\u001b[0m \u001b[0;34m\u001b[0m\u001b[0m\n\u001b[0;32m---> 41\u001b[0;31m             \u001b[0mfired\u001b[0m \u001b[0;34m=\u001b[0m \u001b[0msubprocess\u001b[0m\u001b[0;34m.\u001b[0m\u001b[0mcheck_output\u001b[0m\u001b[0;34m(\u001b[0m\u001b[0;34m[\u001b[0m\u001b[0;34m'bash'\u001b[0m\u001b[0;34m,\u001b[0m\u001b[0;34m'-c'\u001b[0m\u001b[0;34m,\u001b[0m \u001b[0mrunCommand\u001b[0m\u001b[0;34m]\u001b[0m\u001b[0;34m,\u001b[0m\u001b[0muniversal_newlines\u001b[0m\u001b[0;34m=\u001b[0m\u001b[0;32mTrue\u001b[0m\u001b[0;34m)\u001b[0m\u001b[0;34m\u001b[0m\u001b[0;34m\u001b[0m\u001b[0m\n\u001b[0m",
      "\u001b[0;32m/usr/lib/python3.6/subprocess.py\u001b[0m in \u001b[0;36mcheck_output\u001b[0;34m(timeout, *popenargs, **kwargs)\u001b[0m\n\u001b[1;32m    354\u001b[0m \u001b[0;34m\u001b[0m\u001b[0m\n\u001b[1;32m    355\u001b[0m     return run(*popenargs, stdout=PIPE, timeout=timeout, check=True,\n\u001b[0;32m--> 356\u001b[0;31m                **kwargs).stdout\n\u001b[0m\u001b[1;32m    357\u001b[0m \u001b[0;34m\u001b[0m\u001b[0m\n\u001b[1;32m    358\u001b[0m \u001b[0;34m\u001b[0m\u001b[0m\n",
      "\u001b[0;32m/usr/lib/python3.6/subprocess.py\u001b[0m in \u001b[0;36mrun\u001b[0;34m(input, timeout, check, *popenargs, **kwargs)\u001b[0m\n\u001b[1;32m    423\u001b[0m     \u001b[0;32mwith\u001b[0m \u001b[0mPopen\u001b[0m\u001b[0;34m(\u001b[0m\u001b[0;34m*\u001b[0m\u001b[0mpopenargs\u001b[0m\u001b[0;34m,\u001b[0m \u001b[0;34m**\u001b[0m\u001b[0mkwargs\u001b[0m\u001b[0;34m)\u001b[0m \u001b[0;32mas\u001b[0m \u001b[0mprocess\u001b[0m\u001b[0;34m:\u001b[0m\u001b[0;34m\u001b[0m\u001b[0;34m\u001b[0m\u001b[0m\n\u001b[1;32m    424\u001b[0m         \u001b[0;32mtry\u001b[0m\u001b[0;34m:\u001b[0m\u001b[0;34m\u001b[0m\u001b[0;34m\u001b[0m\u001b[0m\n\u001b[0;32m--> 425\u001b[0;31m             \u001b[0mstdout\u001b[0m\u001b[0;34m,\u001b[0m \u001b[0mstderr\u001b[0m \u001b[0;34m=\u001b[0m \u001b[0mprocess\u001b[0m\u001b[0;34m.\u001b[0m\u001b[0mcommunicate\u001b[0m\u001b[0;34m(\u001b[0m\u001b[0minput\u001b[0m\u001b[0;34m,\u001b[0m \u001b[0mtimeout\u001b[0m\u001b[0;34m=\u001b[0m\u001b[0mtimeout\u001b[0m\u001b[0;34m)\u001b[0m\u001b[0;34m\u001b[0m\u001b[0;34m\u001b[0m\u001b[0m\n\u001b[0m\u001b[1;32m    426\u001b[0m         \u001b[0;32mexcept\u001b[0m \u001b[0mTimeoutExpired\u001b[0m\u001b[0;34m:\u001b[0m\u001b[0;34m\u001b[0m\u001b[0;34m\u001b[0m\u001b[0m\n\u001b[1;32m    427\u001b[0m             \u001b[0mprocess\u001b[0m\u001b[0;34m.\u001b[0m\u001b[0mkill\u001b[0m\u001b[0;34m(\u001b[0m\u001b[0;34m)\u001b[0m\u001b[0;34m\u001b[0m\u001b[0;34m\u001b[0m\u001b[0m\n",
      "\u001b[0;32m/usr/lib/python3.6/subprocess.py\u001b[0m in \u001b[0;36mcommunicate\u001b[0;34m(self, input, timeout)\u001b[0m\n\u001b[1;32m    848\u001b[0m                 \u001b[0mself\u001b[0m\u001b[0;34m.\u001b[0m\u001b[0m_stdin_write\u001b[0m\u001b[0;34m(\u001b[0m\u001b[0minput\u001b[0m\u001b[0;34m)\u001b[0m\u001b[0;34m\u001b[0m\u001b[0;34m\u001b[0m\u001b[0m\n\u001b[1;32m    849\u001b[0m             \u001b[0;32melif\u001b[0m \u001b[0mself\u001b[0m\u001b[0;34m.\u001b[0m\u001b[0mstdout\u001b[0m\u001b[0;34m:\u001b[0m\u001b[0;34m\u001b[0m\u001b[0;34m\u001b[0m\u001b[0m\n\u001b[0;32m--> 850\u001b[0;31m                 \u001b[0mstdout\u001b[0m \u001b[0;34m=\u001b[0m \u001b[0mself\u001b[0m\u001b[0;34m.\u001b[0m\u001b[0mstdout\u001b[0m\u001b[0;34m.\u001b[0m\u001b[0mread\u001b[0m\u001b[0;34m(\u001b[0m\u001b[0;34m)\u001b[0m\u001b[0;34m\u001b[0m\u001b[0;34m\u001b[0m\u001b[0m\n\u001b[0m\u001b[1;32m    851\u001b[0m                 \u001b[0mself\u001b[0m\u001b[0;34m.\u001b[0m\u001b[0mstdout\u001b[0m\u001b[0;34m.\u001b[0m\u001b[0mclose\u001b[0m\u001b[0;34m(\u001b[0m\u001b[0;34m)\u001b[0m\u001b[0;34m\u001b[0m\u001b[0;34m\u001b[0m\u001b[0m\n\u001b[1;32m    852\u001b[0m             \u001b[0;32melif\u001b[0m \u001b[0mself\u001b[0m\u001b[0;34m.\u001b[0m\u001b[0mstderr\u001b[0m\u001b[0;34m:\u001b[0m\u001b[0;34m\u001b[0m\u001b[0;34m\u001b[0m\u001b[0m\n",
      "\u001b[0;31mKeyboardInterrupt\u001b[0m: "
     ]
    }
   ],
   "source": [
    "# READ THE COMMENTS BEFORE EXECUTION\n",
    "\n",
    "blastFile = \"final_swap.bitscore\"\n",
    "threshold = 10\n",
    "lamda = 0.1\n",
    "\n",
    "sp1_set = ['MusMusculus_htb_hq','MusMusculus_htb_hq','SaccharomycesCerevisiaeS288C_htb_hq',\n",
    "           'DrosophilaMelanogaster_htb_hq','MusMusculus_htb_hq','MusMusculus_htb_hq',\n",
    "           'SaccharomycesCerevisiaeS288C_htb_hq','CaenorhabditisElegans_htb_hq','CaenorhabditisElegans_htb_hq',\n",
    "           'CaenorhabditisElegans_htb_hq',]\n",
    "sp2_set = ['HomoSapiens_htb_hq','SaccharomycesCerevisiaeS288C_htb_hq','HomoSapiens_htb_hq',\n",
    "           'HomoSapiens_htb_hq','CaenorhabditisElegans_htb_hq','DrosophilaMelanogaster_htb_hq',\n",
    "           'DrosophilaMelanogaster_htb_hq','DrosophilaMelanogaster_htb_hq','HomoSapiens_htb_hq',\n",
    "           'SaccharomycesCerevisiaeS288C_htb_hq']\n",
    "\n",
    "for align_num in range(3,4): # DESAIRED PAIRS CAN BE RUN I.E (1,3) MEANS THAT FIRST TWO PAIRS WILL BE RUN\n",
    "    sp1 = sp1_set[align_num-1]\n",
    "    sp2 = sp2_set[align_num-1]\n",
    "    #count = 0\n",
    "    # Alignment-net.cpp MEANS YOU ARE RUNNING THE ALIGNMENT FILE WHICH CONTAINS THE NETSHIELD BASED TOPOLOGICAL ALGO\n",
    "    compileCommand = \"g++ SAlign.cpp Network.cpp Alignment.cpp -o SAlign\"#.format(sp1=sp1, sp2=sp2)\n",
    "    compiled = subprocess.check_output(['bash','-c', compileCommand],universal_newlines=True)\n",
    "    #print(\"ok\")\n",
    "    for j in range(4,6): # alpha variantions\n",
    "        alpha = round(j * 0.1, 1)\n",
    "        for k in range(2,9): # beta variations\n",
    "            beta = round(k * 0.1, 1)\n",
    "            \n",
    "            # IF ALIGNMENT-MC.CPP IS RUNNING THEN UNCOMMENTR AND READJUST THE CODE AS MC TAKE THE AVERAGE OF 10 RUNS\n",
    "            \n",
    "            #for a in range(1,11): # 10 runs for every parameter for monte carlo based alignments\n",
    "            #count = count + 1\n",
    "            file_num = \"{align_num}_{j}_{k}\".format(align_num=align_num, j=j, k=k)\n",
    "            #file_num = 'w8_'+file_num\n",
    "            print(\"======================================================================\")\n",
    "            print(\"align_num: \", file_num, 'alpha', alpha, 'beta', beta)\n",
    "            print(\"======================================================================\\n\")\n",
    "\n",
    "            runCommand =  \"./SAlign \" + sp1 + \".txt \" + sp2 + \".txt -l \"+ str(lamda) + \" -a \"+ str(alpha) + \" -d \"+ str(threshold) +\" -b \" + blastFile + \" -s \" + sp1+\"_\"+sp2+\".tmscore -t \" + str(beta) +\" -n \"+ str(file_num)\n",
    "\n",
    "            fired = subprocess.check_output(['bash','-c', runCommand],universal_newlines=True)\n"
   ]
  },
  {
   "cell_type": "code",
   "execution_count": null,
   "metadata": {},
   "outputs": [],
   "source": []
  },
  {
   "cell_type": "code",
   "execution_count": null,
   "metadata": {},
   "outputs": [],
   "source": []
  }
 ],
 "metadata": {
  "kernelspec": {
   "display_name": "Python 3",
   "language": "python",
   "name": "python3"
  },
  "language_info": {
   "codemirror_mode": {
    "name": "ipython",
    "version": 3
   },
   "file_extension": ".py",
   "mimetype": "text/x-python",
   "name": "python",
   "nbconvert_exporter": "python",
   "pygments_lexer": "ipython3",
   "version": "3.6.8"
  }
 },
 "nbformat": 4,
 "nbformat_minor": 2
}
