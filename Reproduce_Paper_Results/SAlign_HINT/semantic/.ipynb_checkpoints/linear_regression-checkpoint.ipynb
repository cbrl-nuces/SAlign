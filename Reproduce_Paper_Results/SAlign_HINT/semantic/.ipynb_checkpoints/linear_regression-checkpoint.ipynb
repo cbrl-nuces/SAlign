{
 "cells": [
  {
   "cell_type": "code",
   "execution_count": 22,
   "metadata": {},
   "outputs": [
    {
     "name": "stdout",
     "output_type": "stream",
     "text": [
      "        0\n",
      "0       1\n",
      "1       8\n",
      "2      27\n",
      "3      64\n",
      "4     125\n",
      "5     216\n",
      "6     343\n",
      "7     512\n",
      "8     729\n",
      "9    1000\n",
      "10   1331\n",
      "11   1728\n",
      "12   2197\n",
      "13   2744\n",
      "14   3375\n",
      "15   4096\n",
      "16   4913\n",
      "17   5832\n",
      "18   6859\n",
      "19   8000\n",
      "20   9261\n",
      "21  10648\n",
      "22  12167\n",
      "23  13824\n",
      "24  15625\n",
      "25  17576\n",
      "26  19683\n",
      "27  21952\n",
      "28  24389\n",
      "29  27000\n",
      "30  29791\n",
      "31  32768\n",
      "32  35937\n",
      "33  39304\n",
      "34  42875\n"
     ]
    }
   ],
   "source": [
    "import matplotlib.pyplot as plt\n",
    "import numpy as np\n",
    "from sklearn import  linear_model\n",
    "from sklearn.metrics import mean_squared_error, r2_score\n",
    "from pandas import DataFrame, read_csv\n",
    "import pandas as pd \n",
    "\n",
    "xls_file = '/Users/imran/Downloads/3_Residual_plot_demo_Non_Linear.xlsx'\n",
    "complete_data = pd.read_excel(xls_file,skiprows=0, usecols=[1])\n",
    "# data_y = complete_data[:, 1]\n",
    "print(complete_data)"
   ]
  },
  {
   "cell_type": "code",
   "execution_count": null,
   "metadata": {},
   "outputs": [],
   "source": []
  }
 ],
 "metadata": {
  "kernelspec": {
   "display_name": "Python 2",
   "language": "python",
   "name": "python2"
  },
  "language_info": {
   "codemirror_mode": {
    "name": "ipython",
    "version": 2
   },
   "file_extension": ".py",
   "mimetype": "text/x-python",
   "name": "python",
   "nbconvert_exporter": "python",
   "pygments_lexer": "ipython2",
   "version": "2.7.15"
  }
 },
 "nbformat": 4,
 "nbformat_minor": 2
}
