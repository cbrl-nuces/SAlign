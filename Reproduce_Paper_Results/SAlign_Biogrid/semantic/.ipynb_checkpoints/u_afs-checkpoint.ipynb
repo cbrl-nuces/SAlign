{
 "cells": [
  {
   "cell_type": "markdown",
   "metadata": {},
   "source": [
    "## Code for One Pair only"
   ]
  },
  {
   "cell_type": "code",
   "execution_count": 4,
   "metadata": {},
   "outputs": [
    {
     "name": "stdout",
     "output_type": "stream",
     "text": [
      "MF Results: 0.40231332082551613 533.0\n",
      "BP Results: 0.2650043988269795 682.0\n"
     ]
    }
   ],
   "source": [
    "for i in range(0,2):\n",
    "    sum_one = 0.0\n",
    "    avg_one = 0.0\n",
    "    node_one = 0.0\n",
    "    \n",
    "    if i==0:\n",
    "        f = open(\"semantic_files/greedy_alignments/MusMusculus_htb_hq_SaccharomycesCerevisiaeS288C_htb_hq_mf.txt\")\n",
    "    if i==1:\n",
    "        f = open(\"semantic_files/greedy_alignments/MusMusculus_htb_hq_SaccharomycesCerevisiaeS288C_htb_hq_bp.txt\")\n",
    "    mf_lines = f.readlines()\n",
    "    f.close()\n",
    "\n",
    "    for j in range(len(mf_lines)):\n",
    "\n",
    "        l = mf_lines[j].strip(\"\\n\")\n",
    "        l = l.split(\"\\t\")\n",
    "        if l[-1] != 'NA':\n",
    "            sum_one+=float(l[-1])\n",
    "            node_one+=1\n",
    "\n",
    "    avg_one = sum_one/float(node_one)\n",
    "    if i==0:\n",
    "        print (\"MF Results:\",avg_one, node_one)\n",
    "    if i==1:\n",
    "        print (\"BP Results:\",avg_one, node_one)"
   ]
  }
 ],
 "metadata": {
  "kernelspec": {
   "display_name": "Python 3",
   "language": "python",
   "name": "python3"
  },
  "language_info": {
   "codemirror_mode": {
    "name": "ipython",
    "version": 3
   },
   "file_extension": ".py",
   "mimetype": "text/x-python",
   "name": "python",
   "nbconvert_exporter": "python",
   "pygments_lexer": "ipython3",
   "version": "3.6.8"
  }
 },
 "nbformat": 4,
 "nbformat_minor": 2
}
