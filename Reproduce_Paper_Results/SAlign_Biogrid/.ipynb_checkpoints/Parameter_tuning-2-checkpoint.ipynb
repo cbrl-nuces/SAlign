{
 "cells": [
  {
   "cell_type": "code",
   "execution_count": 1,
   "metadata": {},
   "outputs": [],
   "source": [
    "import os\n",
    "import subprocess"
   ]
  },
  {
   "cell_type": "code",
   "execution_count": 4,
   "metadata": {
    "scrolled": true
   },
   "outputs": [
    {
     "name": "stdout",
     "output_type": "stream",
     "text": [
      "======================================================================\n",
      "align_num:  3_10_0 alpha 1.0 beta 0.0\n",
      "======================================================================\n",
      "\n",
      "======================================================================\n",
      "align_num:  3_10_1 alpha 1.0 beta 0.1\n",
      "======================================================================\n",
      "\n",
      "======================================================================\n",
      "align_num:  3_10_2 alpha 1.0 beta 0.2\n",
      "======================================================================\n",
      "\n",
      "======================================================================\n",
      "align_num:  3_10_3 alpha 1.0 beta 0.3\n",
      "======================================================================\n",
      "\n",
      "======================================================================\n",
      "align_num:  3_10_4 alpha 1.0 beta 0.4\n",
      "======================================================================\n",
      "\n",
      "======================================================================\n",
      "align_num:  3_10_5 alpha 1.0 beta 0.5\n",
      "======================================================================\n",
      "\n",
      "======================================================================\n",
      "align_num:  3_10_6 alpha 1.0 beta 0.6\n",
      "======================================================================\n",
      "\n",
      "======================================================================\n",
      "align_num:  3_10_7 alpha 1.0 beta 0.7\n",
      "======================================================================\n",
      "\n",
      "======================================================================\n",
      "align_num:  3_10_8 alpha 1.0 beta 0.8\n",
      "======================================================================\n",
      "\n",
      "======================================================================\n",
      "align_num:  3_10_9 alpha 1.0 beta 0.9\n",
      "======================================================================\n",
      "\n",
      "======================================================================\n",
      "align_num:  3_10_10 alpha 1.0 beta 1.0\n",
      "======================================================================\n",
      "\n"
     ]
    }
   ],
   "source": [
    "# READ THE COMMENTS BEFORE EXECUTION\n",
    "\n",
    "blastFile = \"final_swap.bitscore\"\n",
    "threshold = 10\n",
    "lamda = 0.1\n",
    "\n",
    "sp1_set = ['MusMusculus_htb_hq','MusMusculus_htb_hq','SaccharomycesCerevisiaeS288C_htb_hq',\n",
    "           'MusMusculus_htb_hq','MusMusculus_htb_hq','MusMusculus_htb_hq',\n",
    "           'SaccharomycesCerevisiaeS288C_htb_hq','CaenorhabditisElegans_htb_hq','CaenorhabditisElegans_htb_hq',\n",
    "           'CaenorhabditisElegans_htb_hq',]\n",
    "sp2_set = ['HomoSapiens_htb_hq','SaccharomycesCerevisiaeS288C_htb_hq','HomoSapiens_htb_hq',\n",
    "           'SaccharomycesCerevisiaeS288C_htb_hq','DrosophilaMelanogaster_htb_hq','DrosophilaMelanogaster_htb_hq',\n",
    "           'DrosophilaMelanogaster_htb_hq','DrosophilaMelanogaster_htb_hq','HomoSapiens_htb_hq',\n",
    "           'SaccharomycesCerevisiaeS288C_htb_hq']\n",
    "\n",
    "for align_num in range(3,4): # DESAIRED PAIRS CAN BE RUN I.E (1,3) MEANS THAT FIRST TWO PAIRS WILL BE RUN\n",
    "    sp1 = sp1_set[align_num-1]\n",
    "    sp2 = sp2_set[align_num-1]\n",
    "    #count = 0\n",
    "    # Alignment-net.cpp MEANS YOU ARE RUNNING THE ALIGNMENT FILE WHICH CONTAINS THE NETSHIELD BASED TOPOLOGICAL ALGO\n",
    "    compileCommand = \"g++ SAlign.cpp Network.cpp Alignment.cpp -o SAlign\"#.format(sp1=sp1, sp2=sp2)\n",
    "    compiled = subprocess.check_output(['bash','-c', compileCommand],universal_newlines=True)\n",
    "    #print(\"ok\")\n",
    "    for j in range(0,11): # alpha variantions\n",
    "        alpha = round(j * 0.1, 1)\n",
    "        for k in range(0,11): # beta variations\n",
    "            beta = round(k * 0.1, 1)\n",
    "            \n",
    "            # IF ALIGNMENT-MC.CPP IS RUNNING THEN UNCOMMENTR AND READJUST THE CODE AS MC TAKE THE AVERAGE OF 10 RUNS\n",
    "            \n",
    "            #for a in range(1,11): # 10 runs for every parameter for monte carlo based alignments\n",
    "            #count = count + 1\n",
    "            file_num = \"{align_num}_{j}_{k}\".format(align_num=align_num, j=j, k=k)\n",
    "            #file_num = 'w8_'+file_num\n",
    "            print(\"======================================================================\")\n",
    "            print(\"align_num: \", file_num, 'alpha', alpha, 'beta', beta)\n",
    "            print(\"======================================================================\\n\")\n",
    "\n",
    "            runCommand =  \"./SAlign \" + sp1 + \".txt \" + sp2 + \".txt -l \"+ str(lamda) + \" -a \"+ str(alpha) + \" -d \"+ str(threshold) +\" -b \" + blastFile + \" -s \" + sp1+\"_\"+sp2+\".tmscore -t \" + str(beta) +\" -n \"+ str(file_num)\n",
    "\n",
    "            fired = subprocess.check_output(['bash','-c', runCommand],universal_newlines=True)\n"
   ]
  },
  {
   "cell_type": "code",
   "execution_count": null,
   "metadata": {},
   "outputs": [],
   "source": []
  },
  {
   "cell_type": "code",
   "execution_count": null,
   "metadata": {},
   "outputs": [],
   "source": []
  }
 ],
 "metadata": {
  "kernelspec": {
   "display_name": "Python 3",
   "language": "python",
   "name": "python3"
  },
  "language_info": {
   "codemirror_mode": {
    "name": "ipython",
    "version": 3
   },
   "file_extension": ".py",
   "mimetype": "text/x-python",
   "name": "python",
   "nbconvert_exporter": "python",
   "pygments_lexer": "ipython3",
   "version": "3.6.8"
  }
 },
 "nbformat": 4,
 "nbformat_minor": 2
}
